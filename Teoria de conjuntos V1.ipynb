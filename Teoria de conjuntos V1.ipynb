{
 "cells": [
  {
   "cell_type": "markdown",
   "id": "2e84d501",
   "metadata": {},
   "source": [
    "# Teoria de Conjuntos con Python\n",
    "\n",
    "La teoria de conjuntos es un área fundamental de las matemáticas que trata sobre las propiedades y relaciones entre conjunto, que son colecciones bien detalladas de objetos. Python, como un lenguaje de programación versatíl, ofrece varias formas de trabajar con conjuntos y aplicarconceptos de teoria de conjuntos.\n",
    "\n",
    "## Creacion de conjuntos\n",
    "\n",
    "En python, puedes crear un conjunto utilizando llaves {} o la función set()"
   ]
  },
  {
   "cell_type": "code",
   "execution_count": 1,
   "id": "87f2952b",
   "metadata": {},
   "outputs": [],
   "source": [
    "A = {1, 2, 3, 4, 5}"
   ]
  },
  {
   "cell_type": "code",
   "execution_count": 2,
   "id": "247fe4d7",
   "metadata": {},
   "outputs": [],
   "source": [
    "B = {3, 4, 5, 6, 7}"
   ]
  },
  {
   "cell_type": "code",
   "execution_count": 3,
   "id": "012c38fc",
   "metadata": {},
   "outputs": [],
   "source": [
    "C = set([3, 6, 9, 12, 15])"
   ]
  },
  {
   "cell_type": "markdown",
   "id": "09b8d7fc",
   "metadata": {},
   "source": [
    "TABLA"
   ]
  },
  {
   "cell_type": "code",
   "execution_count": 4,
   "id": "4dea12e4",
   "metadata": {},
   "outputs": [],
   "source": [
    "lista = {1, 2, 3, 4, 5, 1, 2, 3, 4, 5}"
   ]
  },
  {
   "cell_type": "code",
   "execution_count": 5,
   "id": "049f34d6",
   "metadata": {},
   "outputs": [
    {
     "data": {
      "text/plain": [
       "{1, 2, 3, 4, 5}"
      ]
     },
     "execution_count": 5,
     "metadata": {},
     "output_type": "execute_result"
    }
   ],
   "source": [
    "lista"
   ]
  },
  {
   "cell_type": "code",
   "execution_count": 6,
   "id": "9f743d14",
   "metadata": {},
   "outputs": [],
   "source": [
    "conjunto = set(lista)"
   ]
  },
  {
   "cell_type": "code",
   "execution_count": 7,
   "id": "9767fb78",
   "metadata": {},
   "outputs": [
    {
     "data": {
      "text/plain": [
       "{1, 2, 3, 4, 5}"
      ]
     },
     "execution_count": 7,
     "metadata": {},
     "output_type": "execute_result"
    }
   ],
   "source": [
    "conjunto"
   ]
  },
  {
   "cell_type": "markdown",
   "id": "9f217c86",
   "metadata": {},
   "source": [
    "# Operaciones\n",
    "\n",
    "Python proporciona operaciones y métodos para realizar operaciones básicas de conjuntos como unión, intersección, diferencia y diferencia simétrica.\n"
   ]
  },
  {
   "cell_type": "markdown",
   "id": "d273943d",
   "metadata": {},
   "source": [
    "\n",
    "## Unión\n",
    "\n",
    "Cuando tomamos la unión de dos conjuntos (representada por A ∪ B), los combinamos en un conjunto nuevo que incluye todos los elementos que pertenecen al conjunto A, al conjunto B o a ambos. Imagina que tienes dos conjuntos:\n",
    "Conjunto A = {1, 2, 3} (contiene los números 1, 2 y 3)\n",
    "Conjunto B = {2, 4, 5} (contiene los números 2, 4 y 5)\n",
    "La unión de estos conjuntos (A ∪ B) sería: {1, 2, 3, 4, 5}\n",
    "\n",
    "El operador | se utiliza para unir dos conjuntos. El resultado de la operación será un nuevo conjunto que contiene todos los elementos que están en uno o en ambos conjuntos originales.\n",
    "\n",
    "#### Usando el método union():\n",
    "\n",
    "El método union() se utiliza para unir dos conjuntos. El resultado de la operación será un nuevo conjunto que contiene todos los elementos que están en uno o en ambos conjuntos originales."
   ]
  },
  {
   "cell_type": "markdown",
   "id": "2080faa5",
   "metadata": {},
   "source": [
    "La fórmula LaTex es: \n",
    "$$\n",
    "    C = A \\cup B = (x:x \\in A \\quad o \\ quad x \\in B)\n",
    "$$"
   ]
  },
  {
   "cell_type": "code",
   "execution_count": 8,
   "id": "582aeb23",
   "metadata": {},
   "outputs": [
    {
     "data": {
      "text/plain": [
       "{1, 2, 3, 4, 5, 6, 7}"
      ]
     },
     "execution_count": 8,
     "metadata": {},
     "output_type": "execute_result"
    }
   ],
   "source": [
    "A | B"
   ]
  },
  {
   "cell_type": "code",
   "execution_count": 9,
   "id": "dec01333",
   "metadata": {},
   "outputs": [
    {
     "data": {
      "text/plain": [
       "{1, 2, 3, 4, 5, 6, 7}"
      ]
     },
     "execution_count": 9,
     "metadata": {},
     "output_type": "execute_result"
    }
   ],
   "source": [
    "A.union(B)"
   ]
  },
  {
   "cell_type": "markdown",
   "id": "1c5175d1",
   "metadata": {},
   "source": [
    "## Intersección\n",
    "\n",
    "la intersección de dos o más conjuntos es una operación que da como resultado un nuevo conjunto que contiene únicamente los elementos que son comunes a todos los conjuntos originales. La intersección de dos conjuntos A y B se denota por A ∩ B.\n",
    "\n",
    "Ejemplo:\n",
    "\n",
    "A = {1, 2, 3, 4}\n",
    "B = {2, 3, 5, 6}\n",
    "A ∩ B = {2, 3}\n",
    "\n",
    "\n",
    "La intersección de conjuntos en Python se puede realizar de dos maneras:\n",
    "\n",
    "#### Usando el operador &:\n",
    "\n",
    "El operador & se utiliza para encontrar la intersección de dos conjuntos. El resultado de la operación será un nuevo conjunto que contiene solo los elementos que están en ambos conjuntos originales.\n",
    "\n",
    "#### Usando el método intersection():\n",
    "\n",
    "El método intersection() se utiliza para encontrar la intersección de dos conjuntos. El resultado de la operación será un nuevo conjunto que contiene solo los elementos que están en ambos conjuntos originales."
   ]
  },
  {
   "cell_type": "markdown",
   "id": "e65ccfcd",
   "metadata": {},
   "source": [
    "La fórmula LaTex es:\n",
    "$$\n",
    "C = A \\cap B = \\{ \\, x \\in A \\wedge x \\in B\\, \\}\n",
    "$$"
   ]
  },
  {
   "cell_type": "code",
   "execution_count": 10,
   "id": "6b3087c3",
   "metadata": {},
   "outputs": [
    {
     "data": {
      "text/plain": [
       "{3, 4, 5}"
      ]
     },
     "execution_count": 10,
     "metadata": {},
     "output_type": "execute_result"
    }
   ],
   "source": [
    "A & B"
   ]
  },
  {
   "cell_type": "code",
   "execution_count": 11,
   "id": "3abbdbf1",
   "metadata": {},
   "outputs": [
    {
     "data": {
      "text/plain": [
       "{3, 4, 5}"
      ]
     },
     "execution_count": 11,
     "metadata": {},
     "output_type": "execute_result"
    }
   ],
   "source": [
    "A.intersection(B)"
   ]
  },
  {
   "cell_type": "code",
   "execution_count": 12,
   "id": "3a7b2e0c",
   "metadata": {},
   "outputs": [
    {
     "data": {
      "text/plain": [
       "{3, 4, 5}"
      ]
     },
     "execution_count": 12,
     "metadata": {},
     "output_type": "execute_result"
    }
   ],
   "source": [
    "B & A"
   ]
  },
  {
   "cell_type": "code",
   "execution_count": 13,
   "id": "3f1e5f23",
   "metadata": {},
   "outputs": [
    {
     "data": {
      "text/plain": [
       "{3, 4, 5}"
      ]
     },
     "execution_count": 13,
     "metadata": {},
     "output_type": "execute_result"
    }
   ],
   "source": [
    "B.intersection(A)"
   ]
  },
  {
   "cell_type": "markdown",
   "id": "e788276c",
   "metadata": {},
   "source": [
    "## Diferencia\n",
    "\n",
    "En teoría de conjuntos, la diferencia de dos conjuntos es una operación que da como resultado un nuevo conjunto que contiene todos los elementos del primer conjunto que no están en el segundo conjunto. La diferencia de dos conjuntos A y B se denota por A - B.\n",
    "\n",
    "Ejemplo:\n",
    "\n",
    "A = {1, 2, 3, 4}\n",
    "B = {2, 3, 5, 6}\n",
    "A - B = {1, 4}\n",
    "\n",
    "La diferencia de conjuntos en Python se puede realizar de dos maneras:\n",
    "\n",
    "#### Usando el operador -:\n",
    "\n",
    "El operador - se utiliza para encontrar la diferencia de dos conjuntos. El resultado de la operación será un nuevo conjunto que contiene solo los elementos que están en el primer conjunto pero no en el segundo.\n",
    "\n",
    "#### Usando el método difference():\n",
    "\n",
    "El método difference() se utiliza para encontrar la diferencia de dos conjuntos. El resultado de la operación será un nuevo conjunto que contiene solo los elementos que están en el primer conjunto pero no en el segundo.\n",
    "\n",
    "Ambas formas de realizar la diferencia de conjuntos son válidas y producen el mismo resultado. La elección de una u otra dependerá de las preferencias del programador o del contexto en el que se esté trabajando."
   ]
  },
  {
   "cell_type": "markdown",
   "id": "2140a376",
   "metadata": {},
   "source": [
    "La fórmula LaTex es:\n",
    "$$\n",
    "C = A - B = \\{ \\, x \\in A \\wedge x \\notin B\\, \\}\n",
    "$$"
   ]
  },
  {
   "cell_type": "code",
   "execution_count": 14,
   "id": "9761b757",
   "metadata": {},
   "outputs": [
    {
     "data": {
      "text/plain": [
       "{1, 2}"
      ]
     },
     "execution_count": 14,
     "metadata": {},
     "output_type": "execute_result"
    }
   ],
   "source": [
    "A - B"
   ]
  },
  {
   "cell_type": "code",
   "execution_count": 15,
   "id": "d30dc8bb",
   "metadata": {},
   "outputs": [
    {
     "data": {
      "text/plain": [
       "{1, 2}"
      ]
     },
     "execution_count": 15,
     "metadata": {},
     "output_type": "execute_result"
    }
   ],
   "source": [
    "A.difference(B)"
   ]
  },
  {
   "cell_type": "code",
   "execution_count": 16,
   "id": "98832cb6",
   "metadata": {},
   "outputs": [
    {
     "data": {
      "text/plain": [
       "{6, 7}"
      ]
     },
     "execution_count": 16,
     "metadata": {},
     "output_type": "execute_result"
    }
   ],
   "source": [
    "B - A"
   ]
  },
  {
   "cell_type": "code",
   "execution_count": 17,
   "id": "305b75b1",
   "metadata": {},
   "outputs": [
    {
     "data": {
      "text/plain": [
       "{6, 7}"
      ]
     },
     "execution_count": 17,
     "metadata": {},
     "output_type": "execute_result"
    }
   ],
   "source": [
    "B.difference(A)"
   ]
  },
  {
   "cell_type": "markdown",
   "id": "10e3f75e",
   "metadata": {},
   "source": [
    "## Diferencia simétrica\n",
    "\n",
    "La diferencia simétrica de dos conjuntos es una operación que da como resultado un nuevo conjunto que contiene todos los elementos que pertenecen a uno de los dos conjuntos originales, pero no a ambos a la vez.\n",
    "\n",
    "Notación: La diferencia simétrica de dos conjuntos A y B se denota por A △ B.\n",
    "\n",
    "Ejemplo:\n",
    "\n",
    "A = {1, 2, 3, 4}\n",
    "B = {2, 3, 5, 6}\n",
    "A △ B = {1, 4, 5, 6}\n",
    "\n",
    "La diferencia simétrica de conjuntos en Python se puede realizar de dos maneras:\n",
    "\n",
    "#### 1. Usando el operador ^:\n",
    "\n",
    "El operador ^ se utiliza para encontrar la diferencia simétrica de dos conjuntos. El resultado de la operación será un nuevo conjunto que contiene solo los elementos que están en uno de los dos conjuntos pero no en ambos.\n",
    "\n",
    "#### 2. Usando el método symmetric_difference():\n",
    "\n",
    "El método symmetric_difference() se utiliza para encontrar la diferencia simétrica de dos conjuntos. El resultado de la operación será un nuevo conjunto que contiene solo los elementos que están en uno de los dos conjuntos pero no en ambos."
   ]
  },
  {
   "cell_type": "markdown",
   "id": "c2e54518",
   "metadata": {},
   "source": [
    "La fórmula LaTex es:\n",
    "\n",
    "$$\n",
    "C = A \\triangle B = \\{ \\, x \\in (A \\cup B) \\wedge x \\notin (A \\cap B)\\, \\}\n",
    "$$"
   ]
  },
  {
   "cell_type": "code",
   "execution_count": 18,
   "id": "037adfc1",
   "metadata": {},
   "outputs": [
    {
     "data": {
      "text/plain": [
       "{1, 2, 6, 7}"
      ]
     },
     "execution_count": 18,
     "metadata": {},
     "output_type": "execute_result"
    }
   ],
   "source": [
    "A ^ B"
   ]
  },
  {
   "cell_type": "code",
   "execution_count": 19,
   "id": "f0d45cea",
   "metadata": {},
   "outputs": [
    {
     "data": {
      "text/plain": [
       "{1, 2, 6, 7}"
      ]
     },
     "execution_count": 19,
     "metadata": {},
     "output_type": "execute_result"
    }
   ],
   "source": [
    "A.symmetric_difference(B)"
   ]
  },
  {
   "cell_type": "code",
   "execution_count": 20,
   "id": "ebe4c7d4",
   "metadata": {},
   "outputs": [
    {
     "data": {
      "text/plain": [
       "{1, 2, 6, 7}"
      ]
     },
     "execution_count": 20,
     "metadata": {},
     "output_type": "execute_result"
    }
   ],
   "source": [
    "B ^ A"
   ]
  },
  {
   "cell_type": "code",
   "execution_count": 21,
   "id": "7891d099",
   "metadata": {},
   "outputs": [
    {
     "data": {
      "text/plain": [
       "{1, 2, 6, 7}"
      ]
     },
     "execution_count": 21,
     "metadata": {},
     "output_type": "execute_result"
    }
   ],
   "source": [
    "B.symmetric_difference(A)"
   ]
  }
 ],
 "metadata": {
  "kernelspec": {
   "display_name": "Python 3 (ipykernel)",
   "language": "python",
   "name": "python3"
  },
  "language_info": {
   "codemirror_mode": {
    "name": "ipython",
    "version": 3
   },
   "file_extension": ".py",
   "mimetype": "text/x-python",
   "name": "python",
   "nbconvert_exporter": "python",
   "pygments_lexer": "ipython3",
   "version": "3.11.5"
  }
 },
 "nbformat": 4,
 "nbformat_minor": 5
}
